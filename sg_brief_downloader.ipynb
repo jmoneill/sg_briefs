{
 "cells": [
  {
   "cell_type": "markdown",
   "metadata": {},
   "source": [
    "This loads in the list of URL's collected in the other script and downloads them."
   ]
  },
  {
   "cell_type": "code",
   "execution_count": 5,
   "metadata": {
    "collapsed": true
   },
   "outputs": [],
   "source": [
    "import pickle\n",
    "import requests\n",
    "import os\n",
    "import os.path\n",
    "from pathlib import Path"
   ]
  },
  {
   "cell_type": "code",
   "execution_count": 2,
   "metadata": {
    "collapsed": true
   },
   "outputs": [],
   "source": [
    "with open(\"new_urls.txt\", \"rb\") as fp:   # Unpickling\n",
    "    url_links = pickle.load(fp)"
   ]
  },
  {
   "cell_type": "code",
   "execution_count": 7,
   "metadata": {},
   "outputs": [
    {
     "name": "stdout",
     "output_type": "stream",
     "text": [
      "700/4791 files downloaded.\n",
      "800/4791 files downloaded.\n",
      "900/4791 files downloaded.\n",
      "1000/4791 files downloaded.\n",
      "1100/4791 files downloaded.\n",
      "1200/4791 files downloaded.\n",
      "1300/4791 files downloaded.\n",
      "1400/4791 files downloaded.\n",
      "1500/4791 files downloaded.\n",
      "1600/4791 files downloaded.\n",
      "1700/4791 files downloaded.\n",
      "1800/4791 files downloaded.\n",
      "1900/4791 files downloaded.\n",
      "2000/4791 files downloaded.\n",
      "2100/4791 files downloaded.\n",
      "2200/4791 files downloaded.\n",
      "2300/4791 files downloaded.\n",
      "2400/4791 files downloaded.\n",
      "2500/4791 files downloaded.\n",
      "2600/4791 files downloaded.\n",
      "2700/4791 files downloaded.\n",
      "2800/4791 files downloaded.\n",
      "2900/4791 files downloaded.\n",
      "3000/4791 files downloaded.\n",
      "3100/4791 files downloaded.\n",
      "3200/4791 files downloaded.\n",
      "3300/4791 files downloaded.\n",
      "3400/4791 files downloaded.\n",
      "3500/4791 files downloaded.\n",
      "3600/4791 files downloaded.\n",
      "3700/4791 files downloaded.\n",
      "3800/4791 files downloaded.\n",
      "3900/4791 files downloaded.\n",
      "4000/4791 files downloaded.\n",
      "4100/4791 files downloaded.\n",
      "4200/4791 files downloaded.\n",
      "4300/4791 files downloaded.\n",
      "4400/4791 files downloaded.\n",
      "4500/4791 files downloaded.\n",
      "4600/4791 files downloaded.\n",
      "4700/4791 files downloaded.\n"
     ]
    }
   ],
   "source": [
    "x = 0\n",
    "save_path = \"/Users/literroy/sg_brief_pdfs\"\n",
    "alt_save_path = \"/Users/literroy/sg_brief_pdfs/duplicates\"\n",
    "\n",
    "for url in url_links:\n",
    "    x = x + 1 \n",
    "    if x > 648:\n",
    "        file_name = url.split('/')[-1]\n",
    "        full_path = os.path.join(save_path, file_name)\n",
    "        if Path(full_path).is_file():\n",
    "            full_path = os.path.join(alt_save_path, file_name)\n",
    "        r = requests.get(url, stream = True)\n",
    "        with open(full_path,'wb') as pdf:\n",
    "            for chunk in r.iter_content(chunk_size=1024):\n",
    "                if chunk:\n",
    "                    pdf.write(chunk)\n",
    "        if x % 100 == 0:\n",
    "            print(str(x) + \"/\" + str(len(url_links)) + \" files downloaded.\")"
   ]
  },
  {
   "cell_type": "code",
   "execution_count": null,
   "metadata": {
    "collapsed": true
   },
   "outputs": [],
   "source": []
  }
 ],
 "metadata": {
  "kernelspec": {
   "display_name": "Python 3",
   "language": "python",
   "name": "python3"
  },
  "language_info": {
   "codemirror_mode": {
    "name": "ipython",
    "version": 3
   },
   "file_extension": ".py",
   "mimetype": "text/x-python",
   "name": "python",
   "nbconvert_exporter": "python",
   "pygments_lexer": "ipython3",
   "version": "3.6.2"
  }
 },
 "nbformat": 4,
 "nbformat_minor": 2
}
