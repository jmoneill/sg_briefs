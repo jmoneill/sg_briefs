{
 "cells": [
  {
   "cell_type": "markdown",
   "metadata": {},
   "source": [
    "This loads in the list of URL's collected in the other script and downloads them."
   ]
  },
  {
   "cell_type": "code",
   "execution_count": null,
   "metadata": {
    "collapsed": true
   },
   "outputs": [],
   "source": [
    "import pickle\n",
    "import requests\n",
    "import os\n",
    "import os.path\n",
    "from pathlib import Path"
   ]
  },
  {
   "cell_type": "code",
   "execution_count": null,
   "metadata": {
    "collapsed": true
   },
   "outputs": [],
   "source": [
    "file_name = \"new_urls.txt\"\n",
    "\n",
    "with open(file_name, \"rb\") as fp:   # Open the file saved by the link scraper\n",
    "    url_links = pickle.load(fp)"
   ]
  },
  {
   "cell_type": "code",
   "execution_count": null,
   "metadata": {},
   "outputs": [],
   "source": [
    "x = 0\n",
    "save_path = \"/Users/literroy/sg_brief_pdfs\" ## you probably don't have a literroy user, so pick where you want them saved\n",
    "alt_save_path = \"/Users/literroy/sg_brief_pdfs/duplicates\" ## this is where duplicate files are downloaded so you can check and make sure they're safe to delete\n",
    "\n",
    "for url in url_links:\n",
    "    x = x + 1 ## counter just used to keep you updated on the progress of the script\n",
    "    file_name = url.split('/')[-1] ## get the file name of the original PDF\n",
    "    full_path = os.path.join(save_path, file_name)\n",
    "    if Path(full_path).is_file(): ## check if there's already a file of that name in your save directory\n",
    "        full_path = os.path.join(alt_save_path, file_name) ## and if so save to the alternate directory\n",
    "    r = requests.get(url, stream = True)\n",
    "    with open(full_path,'wb') as pdf:\n",
    "        for chunk in r.iter_content(chunk_size=1024): ## someone said to do chunks in case of big PDF files so I did\n",
    "            if chunk:\n",
    "                pdf.write(chunk)\n",
    "    if x % 100 == 0: ## Progress indicator, every 100 files it'll give you an update on how far it's progressed.\n",
    "        print(str(x) + \"/\" + str(len(url_links)) + \" files downloaded.\")"
   ]
  }
 ],
 "metadata": {
  "kernelspec": {
   "display_name": "Python 3",
   "language": "python",
   "name": "python3"
  },
  "language_info": {
   "codemirror_mode": {
    "name": "ipython",
    "version": 3
   },
   "file_extension": ".py",
   "mimetype": "text/x-python",
   "name": "python",
   "nbconvert_exporter": "python",
   "pygments_lexer": "ipython3",
   "version": "3.6.2"
  }
 },
 "nbformat": 4,
 "nbformat_minor": 2
}
